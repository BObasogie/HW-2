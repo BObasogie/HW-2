{
 "cells": [
  {
   "cell_type": "code",
   "execution_count": null,
   "metadata": {},
   "outputs": [],
   "source": [
    "# Import the 'os' and 'csv' libraries\n",
    "import os\n",
    "import csv\n",
    "import pandas as pd"
   ]
  },
  {
   "cell_type": "code",
   "execution_count": null,
   "metadata": {},
   "outputs": [],
   "source": [
    "# Set path for importing our CSV file\n",
    "file = os.path.join(\"..\",\"Resources\",\"yahoo_stock.csv\")\n",
    "file_df = pd.read_csv(file)\n",
    "file_df.loc[[1573,1574,1575]]\n"
   ]
  },
  {
   "cell_type": "code",
   "execution_count": null,
   "metadata": {},
   "outputs": [],
   "source": [
    "# Open a connection to the comma-delimited csv file \n",
    "with open(file,'r') as csvfile:\n",
    "\n",
    "    # Read in the CSV file using csv.DictReader() class\n",
    "    csvreader = csv.DictReader(csvfile, delimiter=',')\n",
    "    \n",
    "    # Create a variable to save our print row and greatest daily percent change\n",
    "    PerChange = {}\n",
    "    printrow = {}\n",
    "    pd.set_option('display.max_columns', None)\n",
    "    \n",
    "    # Iterate through each row\n",
    "    for column in csvreader:\n",
    "        \n",
    " \n",
    "        # For each row, calculate the daily percent change\n",
    "        dataFrame = pd.DataFrame(file_df, columns = [\"Date\",\"High\",\"Low\",\"Volume\",\"PerChange\",\"DailyPerChange\"]) #\"Open\",\"Close\"\n",
    "        dataFrame['PerChange']= (file_df[\"Close\"] - file_df[\"Open\"])/file_df[\"Open\"] * 100\n",
    "     \n",
    "        \n",
    "                  \n",
    "\n",
    "    \n",
    "        # Check if the absolute daily percent change is greater than the previous max\n",
    "        #printrow = MaxPerc.high()\n",
    "        dataFrame['DailyPerChange']= dataFrame.PerChange.eq(dataFrame.PerChange.shift())\n",
    "            \n",
    "            # If true, store new greatest daily percent change and print row\n",
    "        printrow = dataFrame['PerChange'].max()\n",
    "            \n",
    "    # Print out the date, stock high, stock low, volume and percent change for the day with the greatest percent change\n",
    "    print(dataFrame[dataFrame['PerChange'] == dataFrame['PerChange'].max()])\n",
    "    print('=========')\n",
    "    print(printrow)\n",
    "    print('=========')\n",
    "    print(dataFrame)\n",
    "\n",
    "\n"
   ]
  },
  {
   "cell_type": "code",
   "execution_count": null,
   "metadata": {},
   "outputs": [],
   "source": []
  }
 ],
 "metadata": {
  "kernelspec": {
   "display_name": "Python 3",
   "language": "python",
   "name": "python3"
  },
  "language_info": {
   "codemirror_mode": {
    "name": "ipython",
    "version": 3
   },
   "file_extension": ".py",
   "mimetype": "text/x-python",
   "name": "python",
   "nbconvert_exporter": "python",
   "pygments_lexer": "ipython3",
   "version": "3.7.3"
  }
 },
 "nbformat": 4,
 "nbformat_minor": 4
}
